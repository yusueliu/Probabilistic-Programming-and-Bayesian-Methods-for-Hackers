{
 "cells": [
  {
   "cell_type": "markdown",
   "metadata": {},
   "source": [
    "## Trying out various examples in Tensorflow Probability\n",
    "\n",
    "```tfp.distributions.MixtureSameFaily```"
   ]
  },
  {
   "cell_type": "code",
   "execution_count": null,
   "metadata": {},
   "outputs": [],
   "source": [
    "import warnings\n",
    "warnings.filterwarnings('ignore')\n",
    "\n",
    "from utils import *"
   ]
  },
  {
   "cell_type": "code",
   "execution_count": null,
   "metadata": {},
   "outputs": [],
   "source": [
    "import tensorflow_probability as tfp"
   ]
  },
  {
   "cell_type": "code",
   "execution_count": null,
   "metadata": {},
   "outputs": [],
   "source": [
    "tfd = tfp.distributions"
   ]
  },
  {
   "cell_type": "code",
   "execution_count": null,
   "metadata": {},
   "outputs": [],
   "source": [
    "gm = tfd.MixtureSameFamily(\n",
    "    mixture_distribution=tfd.Categorical(\n",
    "        probs=[0.3, 0.7]),\n",
    "    components_distribution=tfd.Normal(\n",
    "        loc=[-1., 1.],     # One for each component.\n",
    "        scale=[0.1, 0.5])) # and same here.\n",
    "\n",
    "gm.mean()\n",
    "\n",
    "gm.variance()"
   ]
  },
  {
   "cell_type": "code",
   "execution_count": null,
   "metadata": {},
   "outputs": [],
   "source": [
    "import numpy as np\n",
    "import matplotlib.pyplot as plt"
   ]
  },
  {
   "cell_type": "code",
   "execution_count": null,
   "metadata": {},
   "outputs": [],
   "source": [
    "\n",
    "x = np.linspace(-2., 3., int(1e4), dtype=np.float32)\n",
    "plt.plot(x, gm.prob(x).eval());"
   ]
  },
  {
   "cell_type": "markdown",
   "metadata": {},
   "source": [
    "Create a mixture of two Bivariate Gaussians:"
   ]
  },
  {
   "cell_type": "code",
   "execution_count": null,
   "metadata": {},
   "outputs": [],
   "source": [
    "gm = tfd.MixtureSameFamily(\n",
    "    mixture_distribution=tfd.Categorical(\n",
    "        probs=[0.3, 0.7]),\n",
    "    components_distribution=tfd.MultivariateNormalDiag(\n",
    "        loc=[[-1., 1],  # component 1\n",
    "             [1, -1]],  # component 2\n",
    "        scale_identity_multiplier=[.3, .6]))\n",
    "\n",
    "gm.mean()\n",
    "\n",
    "gm.covariance()"
   ]
  },
  {
   "cell_type": "code",
   "execution_count": null,
   "metadata": {},
   "outputs": [],
   "source": [
    "def meshgrid(x, y=x):\n",
    "    [gx, gy] = np.meshgrid(x, y, indexing='ij')\n",
    "    gx, gy = np.float32(gx), np.float32(gy)\n",
    "    grid = np.concatenate([gx.ravel()[None, :], gy.ravel()[None, :]], axis=0)\n",
    "    return grid.T.reshape(x.size, y.size, 2)"
   ]
  },
  {
   "cell_type": "code",
   "execution_count": null,
   "metadata": {},
   "outputs": [],
   "source": [
    "grid = meshgrid(np.linspace(-2, 2, 100, dtype=np.float32))\n",
    "plt.contour(grid[..., 0], grid[..., 1], gm.prob(grid).eval());"
   ]
  },
  {
   "cell_type": "markdown",
   "metadata": {},
   "source": [
    "### Hamiltonian Monte Carlo (HMC)\n",
    "It takes a series of gradient-informed steps to produce a Metropolis proposal."
   ]
  },
  {
   "cell_type": "code",
   "execution_count": null,
   "metadata": {},
   "outputs": [],
   "source": [
    "# Target distribution is proportional to `exp(-x(1+x))`.\n",
    "def unnormalized_log_prob(x):\n",
    "    return -x - x**2"
   ]
  },
  {
   "cell_type": "code",
   "execution_count": null,
   "metadata": {},
   "outputs": [],
   "source": [
    "# Initialize the HMC transition kernel.\n",
    "num_results = int(10e3)\n",
    "num_burnin_steps = int(10e3)\n",
    "adaptive_hmc = tfp.mcmc.SimpleStepSizeAdaptation(\n",
    "    tfp.mcmc.HamiltonianMonteCarlo(\n",
    "        target_log_prob_fn=unnormalized_log_prob,\n",
    "        num_leapfrog_steps=3,\n",
    "        step_size=1.),\n",
    "    num_adaptation_steps=int(num_burnin_steps * 0.8))"
   ]
  },
  {
   "cell_type": "code",
   "execution_count": null,
   "metadata": {},
   "outputs": [],
   "source": [
    "# Run the chain (with burn-in)\n",
    "@tf.function\n",
    "def run_chain():\n",
    "    # Run the chain\n",
    "    samples, is_accepted = tfp.mcmc.sample_chain(\n",
    "        num_results=num_results,\n",
    "        num_burnin_steps=num_burnin_steps,\n",
    "        current_state=1,\n",
    "        kernel=adaptive_hmc,\n",
    "        trace_fn=lambda _, pkr: pkr.inner_results.is_accepted)\n",
    "    \n",
    "    sample_mean = tf.reduce_mean(samples)\n",
    "    sample_stddev = tf.math.reduce_std(samples)\n",
    "    is_accepted = tf.reduce_mean(tf.cast(is_accepted, dtype=tf.float32))\n",
    "    return sample_mean, sample_stddev, is_accepted\n"
   ]
  },
  {
   "cell_type": "code",
   "execution_count": null,
   "metadata": {},
   "outputs": [],
   "source": [
    "sample_mean, sample_stddev, is_accepted = run_chain()\n",
    "\n",
    "print('mean:{:.4f} stddev:{:.4f} acceptance:{:.4f}'.format(\n",
    "    sample_mean.numpy(), sample_stddev.numpy(), is_accepted.numpy()))"
   ]
  },
  {
   "cell_type": "code",
   "execution_count": 1,
   "metadata": {},
   "outputs": [
    {
     "name": "stderr",
     "output_type": "stream",
     "text": [
      "/Users/sueliu/projects/personal-study/Bayesian-Methods-for-Hackers/.venv/lib/python3.7/site-packages/tensorflow/python/framework/dtypes.py:516: FutureWarning: Passing (type, 1) or '1type' as a synonym of type is deprecated; in a future version of numpy, it will be understood as (type, (1,)) / '(1,)type'.\n",
      "  _np_qint8 = np.dtype([(\"qint8\", np.int8, 1)])\n",
      "/Users/sueliu/projects/personal-study/Bayesian-Methods-for-Hackers/.venv/lib/python3.7/site-packages/tensorflow/python/framework/dtypes.py:517: FutureWarning: Passing (type, 1) or '1type' as a synonym of type is deprecated; in a future version of numpy, it will be understood as (type, (1,)) / '(1,)type'.\n",
      "  _np_quint8 = np.dtype([(\"quint8\", np.uint8, 1)])\n",
      "/Users/sueliu/projects/personal-study/Bayesian-Methods-for-Hackers/.venv/lib/python3.7/site-packages/tensorflow/python/framework/dtypes.py:518: FutureWarning: Passing (type, 1) or '1type' as a synonym of type is deprecated; in a future version of numpy, it will be understood as (type, (1,)) / '(1,)type'.\n",
      "  _np_qint16 = np.dtype([(\"qint16\", np.int16, 1)])\n",
      "/Users/sueliu/projects/personal-study/Bayesian-Methods-for-Hackers/.venv/lib/python3.7/site-packages/tensorflow/python/framework/dtypes.py:519: FutureWarning: Passing (type, 1) or '1type' as a synonym of type is deprecated; in a future version of numpy, it will be understood as (type, (1,)) / '(1,)type'.\n",
      "  _np_quint16 = np.dtype([(\"quint16\", np.uint16, 1)])\n",
      "/Users/sueliu/projects/personal-study/Bayesian-Methods-for-Hackers/.venv/lib/python3.7/site-packages/tensorflow/python/framework/dtypes.py:520: FutureWarning: Passing (type, 1) or '1type' as a synonym of type is deprecated; in a future version of numpy, it will be understood as (type, (1,)) / '(1,)type'.\n",
      "  _np_qint32 = np.dtype([(\"qint32\", np.int32, 1)])\n",
      "/Users/sueliu/projects/personal-study/Bayesian-Methods-for-Hackers/.venv/lib/python3.7/site-packages/tensorflow/python/framework/dtypes.py:525: FutureWarning: Passing (type, 1) or '1type' as a synonym of type is deprecated; in a future version of numpy, it will be understood as (type, (1,)) / '(1,)type'.\n",
      "  np_resource = np.dtype([(\"resource\", np.ubyte, 1)])\n",
      "/Users/sueliu/projects/personal-study/Bayesian-Methods-for-Hackers/.venv/lib/python3.7/site-packages/tensorboard/compat/tensorflow_stub/dtypes.py:541: FutureWarning: Passing (type, 1) or '1type' as a synonym of type is deprecated; in a future version of numpy, it will be understood as (type, (1,)) / '(1,)type'.\n",
      "  _np_qint8 = np.dtype([(\"qint8\", np.int8, 1)])\n",
      "/Users/sueliu/projects/personal-study/Bayesian-Methods-for-Hackers/.venv/lib/python3.7/site-packages/tensorboard/compat/tensorflow_stub/dtypes.py:542: FutureWarning: Passing (type, 1) or '1type' as a synonym of type is deprecated; in a future version of numpy, it will be understood as (type, (1,)) / '(1,)type'.\n",
      "  _np_quint8 = np.dtype([(\"quint8\", np.uint8, 1)])\n",
      "/Users/sueliu/projects/personal-study/Bayesian-Methods-for-Hackers/.venv/lib/python3.7/site-packages/tensorboard/compat/tensorflow_stub/dtypes.py:543: FutureWarning: Passing (type, 1) or '1type' as a synonym of type is deprecated; in a future version of numpy, it will be understood as (type, (1,)) / '(1,)type'.\n",
      "  _np_qint16 = np.dtype([(\"qint16\", np.int16, 1)])\n",
      "/Users/sueliu/projects/personal-study/Bayesian-Methods-for-Hackers/.venv/lib/python3.7/site-packages/tensorboard/compat/tensorflow_stub/dtypes.py:544: FutureWarning: Passing (type, 1) or '1type' as a synonym of type is deprecated; in a future version of numpy, it will be understood as (type, (1,)) / '(1,)type'.\n",
      "  _np_quint16 = np.dtype([(\"quint16\", np.uint16, 1)])\n",
      "/Users/sueliu/projects/personal-study/Bayesian-Methods-for-Hackers/.venv/lib/python3.7/site-packages/tensorboard/compat/tensorflow_stub/dtypes.py:545: FutureWarning: Passing (type, 1) or '1type' as a synonym of type is deprecated; in a future version of numpy, it will be understood as (type, (1,)) / '(1,)type'.\n",
      "  _np_qint32 = np.dtype([(\"qint32\", np.int32, 1)])\n",
      "/Users/sueliu/projects/personal-study/Bayesian-Methods-for-Hackers/.venv/lib/python3.7/site-packages/tensorboard/compat/tensorflow_stub/dtypes.py:550: FutureWarning: Passing (type, 1) or '1type' as a synonym of type is deprecated; in a future version of numpy, it will be understood as (type, (1,)) / '(1,)type'.\n",
      "  np_resource = np.dtype([(\"resource\", np.ubyte, 1)])\n",
      "WARNING: Logging before flag parsing goes to stderr.\n",
      "W0825 14:21:15.207852 4437792192 deprecation.py:323] From /Users/sueliu/projects/personal-study/Bayesian-Methods-for-Hackers/.venv/lib/python3.7/site-packages/tensorflow/python/ops/math_grad.py:1205: add_dispatch_support.<locals>.wrapper (from tensorflow.python.ops.array_ops) is deprecated and will be removed in a future version.\n",
      "Instructions for updating:\n",
      "Use tf.where in 2.0, which has the same broadcast rule as np.where\n"
     ]
    },
    {
     "name": "stdout",
     "output_type": "stream",
     "text": [
      "mean:-0.4989  stddev:0.7302  acceptance:0.7860\n"
     ]
    }
   ],
   "source": [
    "import tensorflow as tf\n",
    "import tensorflow_probability as tfp\n",
    "\n",
    "tf.enable_eager_execution()\n",
    "\n",
    "# Target distribution is proportional to: `exp(-x (1 + x))`.\n",
    "def unnormalized_log_prob(x):\n",
    "    return -x - x**2.\n",
    "\n",
    "# Initialize the HMC transition kernel.\n",
    "num_results = int(10e3)\n",
    "num_burnin_steps = int(1e3)\n",
    "adaptive_hmc = tfp.mcmc.SimpleStepSizeAdaptation(\n",
    "    tfp.mcmc.HamiltonianMonteCarlo(\n",
    "        target_log_prob_fn=unnormalized_log_prob,\n",
    "        num_leapfrog_steps=3,\n",
    "        step_size=1.),\n",
    "    num_adaptation_steps=int(num_burnin_steps * 0.8))\n",
    "\n",
    "# Run the chain (with burn-in).\n",
    "@tf.function\n",
    "def run_chain():\n",
    "    # Run the chain (with burn-in).\n",
    "    samples, is_accepted = tfp.mcmc.sample_chain(\n",
    "      num_results=num_results,\n",
    "      num_burnin_steps=num_burnin_steps,\n",
    "      current_state=1.,\n",
    "      kernel=adaptive_hmc,\n",
    "      trace_fn=lambda _, pkr: pkr.inner_results.is_accepted)\n",
    "\n",
    "    sample_mean = tf.reduce_mean(samples)\n",
    "    sample_stddev = tf.math.reduce_std(samples)\n",
    "    is_accepted = tf.reduce_mean(tf.cast(is_accepted, dtype=tf.float32))\n",
    "    return sample_mean, sample_stddev, is_accepted\n",
    "\n",
    "sample_mean, sample_stddev, is_accepted = run_chain()\n",
    "\n",
    "print('mean:{:.4f}  stddev:{:.4f}  acceptance:{:.4f}'.format(\n",
    "    sample_mean.numpy(), sample_stddev.numpy(), is_accepted.numpy()))"
   ]
  },
  {
   "cell_type": "markdown",
   "metadata": {},
   "source": [
    "### Estimate parameters of a more complicated posterior.\n",
    "\n",
    "In this example, we'll use Monte-Carlo EM to find best-fit parameters.\n",
    "\n",
    "More precisely, we use HMC to form a chain conditioned on parameter `sigma` and training data `{ (x[i], y[i]) : i=1...n}` Then we use one gradient step of maximum-likelihood to improve `sigma` estimate. Then repeat the process until convergence. This procedure is a Robbins-Monro algorithm.\n",
    "\n",
    "The generative assumptions are:\n",
    "```\n",
    "W ~ MVN(loc=0, scale=sigma * eye(dims))\n",
    "for i=1...num_samples:\n",
    "    X[i] ~ MVN(loc=0, scale=eye(dims))\n",
    "    eps[i] ~ Normal(loc=0, scale=1)\n",
    "    Y[i] = X[i].T * W + eps[i]\n",
    "```\n",
    "\n",
    "We now implement a stochastic approximation of Expectation maximation (SAEM) using `tensorflow_probability` intrinsics."
   ]
  },
  {
   "cell_type": "code",
   "execution_count": 2,
   "metadata": {},
   "outputs": [],
   "source": [
    "import tensorflow as tf\n",
    "import numpy as np\n",
    "\n",
    "tfd = tfp.distributions"
   ]
  },
  {
   "cell_type": "code",
   "execution_count": 4,
   "metadata": {},
   "outputs": [],
   "source": [
    "def make_training_data(num_samples, dims, sigma):\n",
    "    dt = np.asarray(sigma).dtype\n",
    "    x = np.random.randn(dims, num_samples).astype(dt)\n",
    "    w = sigma * np.random.randn(1, dims).astype(dt)\n",
    "    noise = np.random.randn(num_samples).astype(dt)\n",
    "    y = w.dot(x) + noise\n",
    "    return y[0], x, w[0]"
   ]
  },
  {
   "cell_type": "code",
   "execution_count": 5,
   "metadata": {},
   "outputs": [],
   "source": [
    "def make_weights_prior(dims, log_sigma):\n",
    "    return tfd.MultivariateNormalDiag(\n",
    "        loc=tf.zeros([dims], dtype=log_sigma.dtype),\n",
    "        scale_identity_multiplier=tf.exp(log_sigma))"
   ]
  },
  {
   "cell_type": "code",
   "execution_count": 6,
   "metadata": {},
   "outputs": [],
   "source": [
    "def make_response_likelihood(w, x):\n",
    "    if w.shape.ndims == 1:\n",
    "        y_bar = tf.matmul(w[tf.newaxis], x)[0]\n",
    "    else:\n",
    "        y_bar = tf.matmul(w, x)\n",
    "    return tfd.Normal(loc=y_bar, scale=tf.ones_like(y_bar))"
   ]
  },
  {
   "cell_type": "code",
   "execution_count": 7,
   "metadata": {},
   "outputs": [],
   "source": [
    "dtype = np.float32\n",
    "num_samples = 500\n",
    "dims = 10\n",
    "tf.compat.v1.random.set_random_seed(10014)\n",
    "np.random.seed(10014)\n",
    "\n",
    "weights_prior_true_scale = np.array(0.3, dtype)\n",
    "y, x, _ = make_training_data(\n",
    "    num_samples, dims, weights_prior_true_scale)\n",
    "\n",
    "log_sigma = tf.compat.v2.Variable(\n",
    "    name='log_sigma', initial_value=np.array(0, dtype))\n",
    "\n",
    "optimizer = tf.compat.v2.optimizers.SGD(learning_rate=0.01)"
   ]
  },
  {
   "cell_type": "code",
   "execution_count": 8,
   "metadata": {},
   "outputs": [],
   "source": [
    "@tf.function\n",
    "def mcem_iter(weights_chain_start, step_size):\n",
    "    with tf.GradientTape() as tape:\n",
    "        tape.watch(log_sigma)\n",
    "        prior = make_weights_prior(dims, log_sigma)\n",
    "        \n",
    "        def unnormalized_posterior_log_prob(w):\n",
    "            likelihood = make_response_likelihood(w, x)\n",
    "            return (\n",
    "                prior.log_prob(w) +\n",
    "                tf.reduce_sum(\n",
    "                    input_tensor=likelihood.log_prob(y), axis=-1))\n",
    "        \n",
    "        def trace_fn(_, pkr):\n",
    "            return (\n",
    "                pkr.inner_results.log_accept_ratio,\n",
    "                pkr.inner_results.accepted_results.target_log_prob,\n",
    "                pkr.inner_results.accepted_results.step_size\n",
    "            )\n",
    "        num_results = 2\n",
    "        weights, (\n",
    "            log_accept_ratio, target_log_prob, step_size) = tfp.mcmc.sample_chain(\n",
    "            num_results=num_results,\n",
    "            num_burnin_steps=0,\n",
    "            current_state=weights_chain_start,\n",
    "            kernel=tfp.mcmc.SimpleStepSizeAdaptation(\n",
    "                tfp.mcmc.HamiltonianMonteCarlo(\n",
    "                    target_log_prob_fn=unnormalized_posterior_log_prob,\n",
    "                    num_leapfrog_steps=2,\n",
    "                    step_size=step_size,\n",
    "                    state_gradients_are_stopped=True,\n",
    "                ),\n",
    "                # Adapt for the entirety of the trajectory.\n",
    "                num_adaptation_steps=2),\n",
    "            trace_fn=trace_fn,\n",
    "            parallel_iterations=1)\n",
    "        \n",
    "        # We do an optimization step to propagate `log_sigma` after two HMC \n",
    "        # steps to propagate `weights`.\n",
    "        loss = -tf.reduce_mean(input_tensor=target_log_prob)\n",
    "        \n",
    "    avg_acceptance_ratio = tf.reduce_mean(\n",
    "        input_tensor=tf.exp(tf.minimum(log_accept_ratio, 0.)))\n",
    "    \n",
    "    optimizer.apply_gradients(\n",
    "        [[tape.gradient(loss, log_sigma), log_sigma]])\n",
    "    \n",
    "    weights_prior_estimated_scale = tf.exp(log_sigma)\n",
    "    return (weights_prior_estimated_scale, weights[-1], loss,\n",
    "           step_size[-1], avg_acceptance_ratio)"
   ]
  },
  {
   "cell_type": "code",
   "execution_count": 9,
   "metadata": {},
   "outputs": [],
   "source": [
    "num_iters = int(40)\n",
    "\n",
    "weights_prior_estimated_scale_ = np.zeros(num_iters, dtype)\n",
    "weights_ = np.zeros([num_iters + 1, dims], dtype)\n",
    "loss_ = np.zeros([num_iters], dtype)\n",
    "weights_[0] = np.random.randn(dims).astype(dtype)\n",
    "step_size_ = 0.03\n",
    "\n",
    "for iter_ in range(num_iters):\n",
    "    [\n",
    "        weights_prior_estimated_scale_[iter_],\n",
    "        weights_[iter_ + 1],\n",
    "        loss_[iter_],\n",
    "        step_size_,\n",
    "        avg_acceptance_ratio_,\n",
    "    ] = mcem_iter(weights_[iter_], step_size_)\n",
    "    tf.compat.v1.logging.vlog(\n",
    "        1, ('iter:{:>2} loss:{:9.3f} scale:{:.3f}  '\n",
    "           'step_size: {:.4f} avg_acceptance_ratio:{:.4f}').format(\n",
    "            iter_, loss_[iter_], weights_prior_estimated_scale_[iter_],\n",
    "            step_size_, avg_acceptance_ratio_))"
   ]
  },
  {
   "cell_type": "code",
   "execution_count": 11,
   "metadata": {},
   "outputs": [],
   "source": [
    "%matplotlib inline"
   ]
  },
  {
   "cell_type": "code",
   "execution_count": 12,
   "metadata": {},
   "outputs": [
    {
     "data": {
      "text/plain": [
       "Text(0.5, 0, 'iteration')"
      ]
     },
     "execution_count": 12,
     "metadata": {},
     "output_type": "execute_result"
    },
    {
     "data": {
      "image/png": "[encoded data removed]",
      "text/plain": [
       "<Figure size 432x288 with 1 Axes>"
      ]
     },
     "metadata": {
      "needs_background": "light"
     },
     "output_type": "display_data"
    }
   ],
   "source": [
    "import matplotlib.pyplot as plt\n",
    "plt.plot(weights_prior_estimated_scale_)\n",
    "plt.ylabel('weights_prior_estimated_scale')\n",
    "plt.xlabel('iteration')"
   ]
  },
  {
   "cell_type": "code",
   "execution_count": 14,
   "metadata": {},
   "outputs": [],
   "source": [
    "tfp.mcmc.TransformedTransitionKernel?"
   ]
  },
  {
   "cell_type": "markdown",
   "metadata": {},
   "source": [
    "## `SimpleStepSizeAdaptation`"
   ]
  },
  {
   "cell_type": "code",
   "execution_count": null,
   "metadata": {},
   "outputs": [],
   "source": []
  }
 ],
 "metadata": {
  "kernelspec": {
   "display_name": "Python 3",
   "language": "python",
   "name": "python3"
  },
  "language_info": {
   "codemirror_mode": {
    "name": "ipython",
    "version": 3
   },
   "file_extension": ".py",
   "mimetype": "text/x-python",
   "name": "python",
   "nbconvert_exporter": "python",
   "pygments_lexer": "ipython3",
   "version": "3.7.3"
  }
 },
 "nbformat": 4,
 "nbformat_minor": 2
}
