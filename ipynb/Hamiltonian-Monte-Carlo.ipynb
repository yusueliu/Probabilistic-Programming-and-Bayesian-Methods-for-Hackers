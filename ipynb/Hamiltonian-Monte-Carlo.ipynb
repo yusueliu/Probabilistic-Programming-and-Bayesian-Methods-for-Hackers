{
 "cells": [
  {
   "cell_type": "markdown",
   "metadata": {},
   "source": [
    "# Hamiltonian Monte Carlo"
   ]
  },
  {
   "cell_type": "markdown",
   "metadata": {},
   "source": [
    "### Table of Contents\n",
    "- Introduction to Hamiltonian Dynamics\n",
    "- How to use Hamiltonian to construct a MCMC model\n",
    "  1. Define a Hamiltonian function in terms of the probability distribution we wish to sample from."
   ]
  },
  {
   "cell_type": "markdown",
   "metadata": {},
   "source": [
    "### Hamilton's Equations\n",
    "Hamiltonian dynamics operates on a $d$-dimensional position vector $q$ and a $d$-dimensional *momentum* vector $p$, so that the full state space has $2d$ dimensions. The system is described by a function of $q$ and $p$ known as the *Hamiltonian*, $H(q, p)$.\n",
    "\n",
    "\\begin{eqnarray}\n",
    "\\frac{dq_i}{dt} & = & \\frac{\\partial H}{\\partial p_i}\\\\\n",
    "\\frac{dp_i}{dt} & = & -\\frac{\\partial H}{\\partial q_i}\n",
    "\\end{eqnarray}\n",
    "for $i = 1,\\ldots d$.  "
   ]
  },
  {
   "cell_type": "markdown",
   "metadata": {},
   "source": [
    "Variational Inference: The basic idea is to pick an approximation $q(\\mathbf{x})$ from some tractable family, and then try to make this approximation as close as possible to the true posterior $p^*(\\mathbf{x}) \\triangleq p(\\mathbf{x}|\\mathcal{D})$, usually by minimizing the KL divergence from $p^*$ to $q$. This reduces inference to an optimization problem. By relaxing the constraints that $q$ is a proper distribution, and/or by approximating the KL objective function, we can trade accuracy for speed."
   ]
  },
  {
   "cell_type": "code",
   "execution_count": null,
   "metadata": {},
   "outputs": [],
   "source": []
  }
 ],
 "metadata": {
  "kernelspec": {
   "display_name": "Python 3",
   "language": "python",
   "name": "python3"
  },
  "language_info": {
   "codemirror_mode": {
    "name": "ipython",
    "version": 3
   },
   "file_extension": ".py",
   "mimetype": "text/x-python",
   "name": "python",
   "nbconvert_exporter": "python",
   "pygments_lexer": "ipython3",
   "version": "3.7.3"
  }
 },
 "nbformat": 4,
 "nbformat_minor": 2
}
