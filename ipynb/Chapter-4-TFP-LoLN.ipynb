{
 "cells": [
  {
   "cell_type": "code",
   "execution_count": 9,
   "metadata": {},
   "outputs": [],
   "source": [
    "%matplotlib inline\n",
    "%load_ext autoreload\n",
    "%autoreload 2"
   ]
  },
  {
   "cell_type": "markdown",
   "metadata": {},
   "source": [
    "## Law of large numbers\n",
    "Let $Z_i$ be $N$ independent samples from some probability distribution. According to the *Law of Large numbers*, so long as the expected value $E[Z]$ is finite, the following holds,\n",
    "$$\n",
    "\\frac{1}{N}\\sum_{i=1}^NZ_i \\rightarrow E[Z], \\,\\,\\, N\\rightarrow\\infty.\n",
    "$$\n",
    "In words:\n",
    "> The average of a sequence of random variables from the same distribution converges to the expected value of that distribution."
   ]
  },
  {
   "cell_type": "code",
   "execution_count": 10,
   "metadata": {},
   "outputs": [],
   "source": [
    "from utils import *"
   ]
  },
  {
   "cell_type": "markdown",
   "metadata": {},
   "source": [
    "### Intuition\n",
    "If the above Law is somewhat surprising, it can be made more clear by examining a simple example.\n",
    "\n",
    "Consider a random variable $Z$ that can take only two values, $c_1$ and $c_2$. Suppose we have a large number of samples of $Z$, denoting a specific sample $Z_i$. The Law says that we can approximate the expected value of $Z$ by averaging over all sample. Consider the average:\n"
   ]
  }
 ],
 "metadata": {
  "kernelspec": {
   "display_name": "Python 3",
   "language": "python",
   "name": "python3"
  },
  "language_info": {
   "codemirror_mode": {
    "name": "ipython",
    "version": 3
   },
   "file_extension": ".py",
   "mimetype": "text/x-python",
   "name": "python",
   "nbconvert_exporter": "python",
   "pygments_lexer": "ipython3",
   "version": "3.7.3"
  }
 },
 "nbformat": 4,
 "nbformat_minor": 2
}
