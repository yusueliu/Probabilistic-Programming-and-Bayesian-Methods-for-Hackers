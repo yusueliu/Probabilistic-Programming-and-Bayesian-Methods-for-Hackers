{
 "cells": [
  {
   "cell_type": "code",
   "execution_count": 1,
   "id": "67f4432d",
   "metadata": {},
   "outputs": [
    {
     "data": {
      "text/html": [
       "\n",
       "<script>\n",
       "code_show=false;\n",
       "function code_toggle(){\n",
       "    if(code_show){$('.prompt, .input, .output_stderr, .output_error').hide();}\n",
       "    else{$('.input, .prompt, .output_stderr, .output_error').show();}\n",
       "    code_show=!code_show;\n",
       "}\n",
       "function initialize(){\n",
       "    document.body.style.fontFamily='Helvetica Neue';\n",
       "    var output=$('.output_subarea.output_text.output_stream.output_stdout');\n",
       "    $.merge(output,$('.output_subarea.output_text.output_result'));\n",
       "    for(var i=0;i<output.length;i++)for(var j=0;j<output[i].children.length;j++)\n",
       "        output[i].children[j].style.fontFamily='Consolas';\n",
       "    code_toggle();\n",
       "}\n",
       "$(document).ready(initialize);\n",
       "</script>\n",
       "Click <a href=\"javascript:code_toggle()\">here</a> to show/hide codes in this notebook.\n"
      ],
      "text/plain": [
       "<IPython.core.display.HTML object>"
      ]
     },
     "execution_count": 1,
     "metadata": {},
     "output_type": "execute_result"
    }
   ],
   "source": [
    "from IPython.display import HTML\n",
    "HTML('''\n",
    "<script>\n",
    "code_show=false;\n",
    "function code_toggle(){\n",
    "    if(code_show){$('.prompt, .input, .output_stderr, .output_error').hide();}\n",
    "    else{$('.input, .prompt, .output_stderr, .output_error').show();}\n",
    "    code_show=!code_show;\n",
    "}\n",
    "function initialize(){\n",
    "    document.body.style.fontFamily='Helvetica Neue';\n",
    "    var output=$('.output_subarea.output_text.output_stream.output_stdout');\n",
    "    $.merge(output,$('.output_subarea.output_text.output_result'));\n",
    "    for(var i=0;i<output.length;i++)for(var j=0;j<output[i].children.length;j++)\n",
    "        output[i].children[j].style.fontFamily='Consolas';\n",
    "    code_toggle();\n",
    "}\n",
    "$(document).ready(initialize);\n",
    "</script>\n",
    "Click <a href=\"javascript:code_toggle()\">here</a> to show/hide codes in this notebook.\n",
    "''')"
   ]
  },
  {
   "cell_type": "markdown",
   "id": "bc449799",
   "metadata": {},
   "source": [
    "# Probabilistic Programming and Bayesian Methods for Hackers Chapter  2\n",
    "---\n",
    "### Table of Contents\n",
    "\n",
    "- Dependencies & Prerequisites\n",
    "- A little more on TFP\n",
    "  - TFP Variables\n",
    "    - Initializing Stochastic Variables\n",
    "    - Deterministic variables\n",
    "  - Combining with Tensorflow Core\n",
    "  - Including observations in the Model\n",
    "- Modeling approaches\n",
    "  - Same story; different ending\n",
    "  - Example: Bayesian A/B testing\n",
    "  - A Simple Case\n",
    "    - Execute the TF graph to sample from the posterior\n",
    "  - A and B together\n",
    "    - Execute the TF graph to sample from the posterior\n",
    "- An algorithm for human deceit\n",
    "  - The Binomial Distribution\n",
    "  - Example: Cheating among students\n",
    "    - Execute the TF graph to sample from the posterior\n",
    "  - Alternative TFP Model\n",
    "    - Execute the TF graph to sample from the posterior\n",
    "  - More TFP Tricks\n",
    "  - Example: Challenger Space Shuttle Disaster\n",
    "    - Normal Distributions\n",
    "      - Execute the TF graph to sample from the posterior\n",
    "    - What about the day of the Challenger disaster?\n",
    "    - Is our model appropriate?\n",
    "      - Execute the TF graph to sample from the posterior\n",
    "  - Exercises\n",
    "  - References\n",
    "___\n",
    "\n",
    "This chapter introduces more TFP syntax and variables and ways to think about how to model a system from a Bayesian perspective. It also contains tips and data visualization techniques for assessing goodness-of-fit for your Bayesian model."
   ]
  },
  {
   "cell_type": "code",
   "execution_count": 2,
   "id": "1358933d",
   "metadata": {},
   "outputs": [
    {
     "data": {
      "text/plain": [
       "<module 'tensorflow._api.v2.config' from '/Users/sliu/Tutorials/Probabilistic-Programming-and-Bayesian-Methods-for-Hackers/venv/lib/python3.8/site-packages/tensorflow/_api/v2/config/__init__.py'>"
      ]
     },
     "execution_count": 2,
     "metadata": {},
     "output_type": "execute_result"
    }
   ],
   "source": [
    "#@title Imports and Global Variables (make sure to run this cell)  { display-mode: \"form\" }\n",
    "\n",
    "try:\n",
    "  # %tensorflow_version only exists in Colab.\n",
    "  %tensorflow_version 2.x\n",
    "except Exception:\n",
    "    pass\n",
    "\n",
    "\n",
    "from __future__ import absolute_import, division, print_function\n",
    "\n",
    "\n",
    "#@markdown This sets the warning status (default is `ignore`, since this notebook runs correctly)\n",
    "warning_status = \"ignore\" #@param [\"ignore\", \"always\", \"module\", \"once\", \"default\", \"error\"]\n",
    "import warnings\n",
    "warnings.filterwarnings(warning_status)\n",
    "with warnings.catch_warnings():\n",
    "    warnings.filterwarnings(warning_status, category=DeprecationWarning)\n",
    "    warnings.filterwarnings(warning_status, category=UserWarning)\n",
    "\n",
    "import numpy as np\n",
    "import os\n",
    "#@markdown This sets the styles of the plotting (default is styled like plots from [FiveThirtyeight.com](https://fivethirtyeight.com/)\n",
    "matplotlib_style = 'fivethirtyeight' #@param ['fivethirtyeight', 'bmh', 'ggplot', 'seaborn', 'default', 'Solarize_Light2', 'classic', 'dark_background', 'seaborn-colorblind', 'seaborn-notebook']\n",
    "import matplotlib.pyplot as plt; plt.style.use(matplotlib_style)\n",
    "import matplotlib.axes as axes;\n",
    "from matplotlib.patches import Ellipse\n",
    "#%matplotlib inline\n",
    "import seaborn as sns; sns.set_context('notebook')\n",
    "from IPython.core.pylabtools import figsize\n",
    "#@markdown This sets the resolution of the plot outputs (`retina` is the highest resolution)\n",
    "notebook_screen_res = 'retina' #@param ['retina', 'png', 'jpeg', 'svg', 'pdf']\n",
    "#%config InlineBackend.figure_format = notebook_screen_res\n",
    "\n",
    "import tensorflow as tf\n",
    "\n",
    "import tensorflow_probability as tfp\n",
    "tfd = tfp.distributions\n",
    "tfb = tfp.bijectors\n",
    "\n",
    "class _TFColor(object):\n",
    "    \"\"\"Enum of colors used in TF docs.\"\"\"\n",
    "    red = '#F15854'\n",
    "    blue = '#5DA5DA'\n",
    "    orange = '#FAA43A'\n",
    "    green = '#60BD68'\n",
    "    pink = '#F17CB0'\n",
    "    brown = '#B2912F'\n",
    "    purple = '#B276B2'\n",
    "    yellow = '#DECF3F'\n",
    "    gray = '#4D4D4D'\n",
    "    def __getitem__(self, i):\n",
    "        return [\n",
    "            self.red,\n",
    "            self.orange,\n",
    "            self.green,\n",
    "            self.blue,\n",
    "            self.pink,\n",
    "            self.brown,\n",
    "            self.purple,\n",
    "            self.yellow,\n",
    "            self.gray,\n",
    "        ][i % 9]\n",
    "TFColor = _TFColor()\n",
    "\n",
    "def session_options(enable_gpu_ram_resizing=True, enable_xla=False):\n",
    "    \"\"\"\n",
    "    Allowing the notebook to make use of GPUs if they're available.\n",
    "\n",
    "    XLA (Accelerated Linear Algebra) is a domain-specific compiler for linear\n",
    "    algebra that optimizes TensorFlow computations.\n",
    "    \"\"\"\n",
    "    config = tf.config\n",
    "    gpu_devices = config.experimental.list_physical_devices('GPU')\n",
    "    if enable_gpu_ram_resizing:\n",
    "        for device in gpu_devices:\n",
    "            tf.config.experimental.set_memory_growth(device, True)\n",
    "    if enable_xla:\n",
    "        config.optimizer.set_jit(True)\n",
    "    return config\n",
    "\n",
    "session_options(enable_gpu_ram_resizing=True, enable_xla=True)"
   ]
  },
  {
   "cell_type": "markdown",
   "id": "6b445695",
   "metadata": {},
   "source": [
    "### TFP Distributions\n",
    "\n",
    "Let's look into how [`tfp.distributions`](https://www.tensorflow.org/probability/api_docs/python/tfp/distributions) work.\n",
    "\n",
    "TFP uses distribution subclasses to represent *stochastic*, random variables. A variable is stochastic when the following is true: even if you knew all the values of the variable's parameters and components, it would still be random. Included in this category are instances of classes [`Poisson`](https://www.tensorflow.org/probability/api_docs/python/tfp/distributions/Poisson), [`Uniform`](https://www.tensorflow.org/probability/api_docs/python/tfp/distributions/Uniform), and [`Exponential`](https://www.tensorflow.org/probability/api_docs/python/tfp/distributions/Exponential).\n",
    "\n",
    "You can draw random samples from a stochastic variable. When you draw samples, those samples become [`tensorflow.Tensors`](https://www.tensorflow.org/api_docs/python/tf/Tensor) that behave deterministically from that point on. A quick mental check to determine if something is *deterministic* is: *If I knew all of the inputs for creating the variable `foo`, I could calculate the value of `foo`.*  You can add, subtract, and otherwise manipulate the tensors in a variety of ways discussed below. These operations are almost always deterministic."
   ]
  },
  {
   "cell_type": "markdown",
   "id": "9d657cbf",
   "metadata": {},
   "source": [
    "#### Initializing a Distribution\n",
    "\n",
    "Initializing a stochastic, or random, variable requires a few class-specific parameters that describe the Distribution's shape, such as the location and scale. For example:\n",
    "\n",
    "```python\n",
    "some_distribution = tfd.Uniform(0., 4.)\n",
    "```\n",
    "\n",
    "initializes a stochastic, or random, [`Uniform`](https://www.tensorflow.org/probability/api_docs/python/tfp/distributions/Uniform) distribution with the lower bound at 0 and upper bound at 4. Calling `sample()` on the distribution returns a tensor that will behave deterministically from that point on:\n",
    "\n",
    "```python\n",
    "sampled_tensor = some_distribution.sample()\n",
    "```\n",
    "\n",
    "The next example demonstrates what we mean when we say that distributions are stochastic but tensors are deterministic:\n",
    "\n",
    "```\n",
    "derived_tensor_1 = 1 + sampled_tensor\n",
    "derived_tensor_2 = 1 + sampled_tensor  # equal to 1\n",
    "\n",
    "derived_tensor_3 = 1 + some_distribution.sample()\n",
    "derived_tensor_4 = 1 + some_distribution.sample()  # different from 3\n",
    "```\n",
    "\n",
    "The first two lines produce the same value because they refer to the same sampled tensor. The last two lines likely produce different values because they refer to independent samples drawn from the same distribution.\n",
    "\n",
    "To define a multiviariate distribution, just pass in arguments with the shape you want the output to be when creating the distribution. For example:\n",
    "\n",
    "```python\n",
    "betas = tfd.Uniform([0., 0.], [1., 1.])\n",
    "```\n",
    "\n",
    "Creates a Distribution with batch_shape (2,). Now, when you call betas.sample(),\n",
    "two values will be returned instead of one. You can read more about TFP shape semantics in the [TFP docs](https://github.com/tensorflow/probability/blob/master/tensorflow_probability/examples/jupyter_notebooks/Understanding_TensorFlow_Distributions_Shapes.ipynb), but most uses in this book should be self-explanatory."
   ]
  },
  {
   "cell_type": "markdown",
   "id": "bba25d3e",
   "metadata": {},
   "source": [
    "#### Deterministic variables\n",
    "\n",
    "We can create a deterministic distribution similarly to how we create a stochastic distribution. We simply call up the [`Deterministic`](https://www.tensorflow.org/probability/api_docs/python/tfp/distributions/Deterministic) class from Tensorflow Distributions and pass in the deterministic value that we desire\n",
    "```python\n",
    "deterministic_variable = tfd.Deterministic(name=\"deterministic_variable\", loc=some_function_of_variables)\n",
    "```\n",
    "\n",
    "Calling `tfd.Deterministic` is useful for creating distributions that always have the same value. However, the much more common pattern for working with deterministic variables in TFP is to create a tensor or sample from a distribution:"
   ]
  },
  {
   "cell_type": "code",
   "execution_count": 3,
   "id": "e51aff69",
   "metadata": {},
   "outputs": [
    {
     "name": "stderr",
     "output_type": "stream",
     "text": [
      "2021-09-06 14:12:02.777627: I tensorflow/core/platform/cpu_feature_guard.cc:142] This TensorFlow binary is optimized with oneAPI Deep Neural Network Library (oneDNN) to use the following CPU instructions in performance-critical operations:  AVX2 FMA\n",
      "To enable them in other operations, rebuild TensorFlow with the appropriate compiler flags.\n"
     ]
    }
   ],
   "source": [
    "lambda_1 = tfd.Exponential(rate=1., name='lambda_1') # stochastic variable\n",
    "lambda_2 = tfd.Exponential(rate=1., name='lambda_2') # stochastic variable\n",
    "tau = tfd.Uniform(name='tau', low=0., high=10.) # stochastic variable\n",
    "\n",
    "# deterministic variable since we are getting results of lambda's after sampling\n",
    "new_deterministic_variable = tfd.Deterministic(name='deterministic_variable',\n",
    "                                               loc=(lambda_1.sample() + lambda_2.sample()))"
   ]
  },
  {
   "cell_type": "markdown",
   "id": "c04831eb",
   "metadata": {},
   "source": [
    "The use of the deterministic variable was seen in the previous chapter's text-message example.  Recall the model for $\\lambda$ looked like: \n",
    "\n",
    "$$\n",
    "\\lambda = \n",
    "\\begin{cases}\\lambda_1  & \\text{if } t \\lt \\tau \\cr\n",
    "\\lambda_2 & \\text{if } t \\ge \\tau\n",
    "\\end{cases}\n",
    "$$\n",
    "\n",
    "And in TFP code:"
   ]
  },
  {
   "cell_type": "code",
   "execution_count": 4,
   "id": "41178503",
   "metadata": {},
   "outputs": [],
   "source": [
    "tf.cast?"
   ]
  },
  {
   "cell_type": "code",
   "execution_count": 5,
   "id": "e44fbc77",
   "metadata": {},
   "outputs": [],
   "source": [
    "# days\n",
    "n_data_points = 5\n",
    "idx = np.arange(n_data_points)\n",
    "\n",
    "# for n_data_points samples, select from lambda_2 if sampled tau >= day value, lambda_1 otherwise\n",
    "rv_lambda_deterministic = tfd.Deterministic(tf.gather([lambda_1.sample(), lambda_2.sample()],\n",
    "                                                     indices=tf.cast(tau.sample() >= idx, dtype=tf.int32)))\n",
    "lambda_deterministic = rv_lambda_deterministic.sample()"
   ]
  },
  {
   "cell_type": "code",
   "execution_count": 6,
   "id": "e1929a65",
   "metadata": {},
   "outputs": [
    {
     "name": "stdout",
     "output_type": "stream",
     "text": [
      "5 samples from our deterministic lambda model: \n",
      " [0.02445154 0.02445154 0.02445154 0.02445154 1.480262  ]\n"
     ]
    }
   ],
   "source": [
    "print(f\"{n_data_points} samples from our deterministic lambda model: \\n\", lambda_deterministic.numpy())"
   ]
  },
  {
   "cell_type": "markdown",
   "id": "27702074",
   "metadata": {},
   "source": [
    "Clearly, if $\\tau, \\lambda_1$ and $\\lambda_2$ are known, then $\\lambda$ is known completely, hence it is a deterministic variable. We use indexing here to switch from $\\lambda_1$ to $\\lambda_2$ at the appropriate time. "
   ]
  },
  {
   "cell_type": "markdown",
   "id": "b5d3a518",
   "metadata": {},
   "source": [
    "### Including observations in the model\n",
    "\n",
    "At this point, it may not look like it, but we have fully specified our priors. For example, we can ask and answer questions like \"What does my prior distribution of $\\lambda_1$ look like?\" \n",
    "\n",
    "To do this, we will sample from the distribution. The method `.sample()` has a very simple role: get data points from the given distribution. We can then evaluate the resulting tensor to get a NumPy array-like object. "
   ]
  },
  {
   "cell_type": "code",
   "execution_count": 7,
   "id": "68a405db",
   "metadata": {},
   "outputs": [
    {
     "data": {
      "image/png": "[encoded data removed]",
      "text/plain": [
       "<Figure size 900x360 with 1 Axes>"
      ]
     },
     "metadata": {},
     "output_type": "display_data"
    }
   ],
   "source": [
    "# Define our observed samples\n",
    "rv_lambda_1 = tfd.Exponential(rate=1., name='lambda_1')\n",
    "lambda_1 = rv_lambda_1.sample(sample_shape=20000)\n",
    "\n",
    "# Visualize our stepwise prior distribution\n",
    "plt.subplots(figsize=(12.5, 5))\n",
    "plt.hist(lambda_1.numpy(), bins=70, density=True, histtype='stepfilled')\n",
    "plt.title(r\"Prior distribution for $\\lambda_1$\")\n",
    "plt.xlim(0, 8);"
   ]
  },
  {
   "cell_type": "markdown",
   "id": "39ba2a32",
   "metadata": {},
   "source": [
    "To frame this in the notation of the first chapter, though this is a slight abuse of notation, we have specified $P(A)$. Our next goal is to include data/evidence/observations $X$ into our model. \n",
    "\n",
    "Sometimes we may want to match a property of our distribution to a property of observed data. To do so, we get the parameters for our distribution fom the data itself. In this example, the Poisson rate (average number of events) is explicitly set to one over the average of the data:"
   ]
  },
  {
   "cell_type": "code",
   "execution_count": 8,
   "id": "7bce9636",
   "metadata": {},
   "outputs": [
    {
     "name": "stdout",
     "output_type": "stream",
     "text": [
      "two predetermined data points:  tf.Tensor([10.  5.], shape=(2,), dtype=float32)\n",
      "\n",
      " mean of our data:  7.5\n",
      "\n",
      " random sample from Poisson distribution with the same as the poisson rate: \n",
      " 0.0\n"
     ]
    },
    {
     "name": "stderr",
     "output_type": "stream",
     "text": [
      "2021-09-06 14:12:03.440008: I tensorflow/compiler/mlir/mlir_graph_optimization_pass.cc:185] None of the MLIR Optimization Passes are enabled (registered 2)\n",
      "2021-09-06 14:12:03.478236: W tensorflow/compiler/jit/mark_for_compilation_pass.cc:1652] (One-time warning): Not using XLA:CPU for cluster because envvar TF_XLA_FLAGS=--tf_xla_cpu_global_jit was not set.  If you want XLA:CPU, either set that envvar, or use experimental_jit_scope to enable XLA:CPU.  To confirm that XLA is active, pass --vmodule=xla_compilation_cache=1 (as a proper command-line flag, not via TF_XLA_FLAGS) or set the envvar XLA_FLAGS=--xla_hlo_profile.\n"
     ]
    }
   ],
   "source": [
    "data = tf.constant([10., 5.], dtype=tf.float32)\n",
    "rv_poisson = tfd.Poisson(rate=1./tf.reduce_mean(data))\n",
    "poisson = rv_poisson.sample()\n",
    "\n",
    "# Show results\n",
    "print(\"two predetermined data points: \", data)\n",
    "print(\"\\n mean of our data: \", np.mean(data))\n",
    "print(\"\\n random sample from Poisson distribution with the same as the poisson rate: \\n\", poisson.numpy())"
   ]
  },
  {
   "cell_type": "markdown",
   "id": "237a7480",
   "metadata": {},
   "source": [
    "## Modeling approaches\n",
    "\n",
    "A good starting thought to Bayesian modeling is to think about *how your data might have been generated*. Position yourself in an omniscient position, and try to imagine how *you* would recreate the dataset. \n",
    "\n",
    "In the last chapter we investigated text message data. We begin by asking how our observations may have been generated:\n",
    "\n",
    "1.  We started by thinking \"what is the best random variable to describe this count data?\" A Poisson random variable is a good candidate because it can represent count data. So we model the number of sms's received as sampled from a Poisson distribution.\n",
    "\n",
    "2.  Next, we think, \"Ok, assuming sms's are Poisson-distributed, what do I need for the Poisson distribution?\" Well, the Poisson distribution has a parameter $\\lambda$. \n",
    "\n",
    "3.  Do we know $\\lambda$? No. In fact, we have a suspicion that there are *two* $\\lambda$ values, one for the earlier behaviour and one for the later behaviour. We don't know when the behaviour switches though, but call the switchpoint $\\tau$.\n",
    "\n",
    "4. What is a good distribution for the two $\\lambda$s? The exponential is good, as it assigns probabilities to positive real numbers. Well the exponential distribution has a parameter too, call it $\\alpha$.\n",
    "\n",
    "5.  Do we know what the parameter $\\alpha$ might be? No. At this point, we could continue and assign a distribution to $\\alpha$, but it's better to stop once we reach a set level of ignorance: whereas we have a prior belief about $\\lambda$, (\"it probably changes over time\", \"it's likely between 10 and 30\", etc.), we don't really have any strong beliefs about $\\alpha$. So it's best to stop here. \n",
    "\n",
    "    What is a good value for $\\alpha$ then? We think that the $\\lambda$s are between 10-30, so if we set $\\alpha$ really low (which corresponds to larger probability on high values) we are not reflecting our prior well. Similar, a too-high alpha misses our prior belief as well. A good idea for $\\alpha$ as to reflect our belief is to set the value so that the mean of $\\lambda$, given $\\alpha$, is equal to our observed mean. This was shown in the last chapter.\n",
    "\n",
    "6. We have no expert opinion of when $\\tau$ might have occurred. So we will suppose $\\tau$ is from a discrete uniform distribution over the entire timespan.\n",
    "\n",
    "\n",
    "Below we give a graphical visualization of this, where arrows denote `parent-child` relationships. (provided by the [Daft Python library](http://daft-pgm.org/) )\n",
    "\n",
    "<img src=\"http://i.imgur.com/7J30oCG.png\">\n",
    "\n",
    "\n",
    "TFP and other probabilistic programming languages have been designed to tell these data-generation *stories*. More generally, B. Cronin writes [2]:\n",
    "\n",
    "> Probabilistic programming will unlock narrative explanations of data, one of the holy grails of business analytics and the unsung hero of scientific persuasion. People think in terms of stories - thus the unreasonable power of the anecdote to drive decision-making, well-founded or not. But existing analytics largely fails to provide this kind of story; instead, numbers seemingly appear out of thin air, with little of the causal context that humans prefer when weighing their options."
   ]
  },
  {
   "cell_type": "markdown",
   "id": "5b5bdf66",
   "metadata": {},
   "source": [
    "### Same story; different ending.\n",
    "\n",
    "Interestingly, we can create *new datasets* by retelling the story.\n",
    "For example, if we reverse the above steps, we can simulate a possible realization of the dataset.\n",
    "\n",
    "1\\. Specify when the user's behaviour switches by sampling from $\\text{DiscreteUniform}(0, 80)$:"
   ]
  },
  {
   "cell_type": "code",
   "execution_count": 9,
   "id": "2b1ff995",
   "metadata": {},
   "outputs": [
    {
     "name": "stdout",
     "output_type": "stream",
     "text": [
      "Value of Tau (randomly taken from DiscreteUniform(0, 80)): [45]\n"
     ]
    }
   ],
   "source": [
    "tau = tf.random.uniform(shape=[1], minval=0, maxval=80, dtype=tf.int32).numpy()\n",
    "\n",
    "print(\"Value of Tau (randomly taken from DiscreteUniform(0, 80)):\", tau)"
   ]
  },
  {
   "cell_type": "markdown",
   "id": "d5cd7e54",
   "metadata": {},
   "source": [
    "2\\. Draw $\\lambda_1$ and $\\lambda_2$ from a $\\text{Gamma}(\\alpha)$ distribution:\n",
    "\n",
    "Note: A gamma distribution is a generalization of the exponential distribution. A gamma distribution with shape parameter $\\alpha = 1$ and scale parameter $\\beta$ is an  exponential ($\\beta$) distribution. Here, we use a gamma distribution to have more flexibility than we would have had were we to model with an exponential. Rather than returning values between $0$ and $1$, we can return values much larger than $1$ (i.e., the kinds of numbers one would expect to show up in a daily SMS count)."
   ]
  },
  {
   "cell_type": "code",
   "execution_count": 10,
   "id": "1767b496",
   "metadata": {},
   "outputs": [
    {
     "name": "stdout",
     "output_type": "stream",
     "text": [
      "Lambda 1 (randomly taken from Gamma(α) distribution):  25.408363\n",
      "Lambda 2 (randomly taken from Gamma(α) distribution):  11.133369\n"
     ]
    }
   ],
   "source": [
    "alpha = 1./8\n",
    "\n",
    "lambda_1, lambda_2 = tfd.Gamma(concentration=1/alpha, rate=0.3).sample(sample_shape=[2]).numpy()\n",
    "print(\"Lambda 1 (randomly taken from Gamma(α) distribution): \", lambda_1)\n",
    "print(\"Lambda 2 (randomly taken from Gamma(α) distribution): \", lambda_2)"
   ]
  },
  {
   "cell_type": "markdown",
   "id": "795312dc",
   "metadata": {},
   "source": [
    "3\\.  For days before $\\tau$, represent the user's received SMS count by sampling from $\\text{Poi}(\\lambda_1)$, and sample from  $\\text{Poi}(\\lambda_2)$ for days after $\\tau$. For example:"
   ]
  },
  {
   "cell_type": "code",
   "execution_count": 11,
   "id": "18c5b115",
   "metadata": {},
   "outputs": [
    {
     "name": "stdout",
     "output_type": "stream",
     "text": [
      "Artificial day-by-day user SMS count created by sampling: \n",
      " [37. 22. 22. 23. 21. 33. 31. 24. 23. 23. 26. 25. 25. 24. 31. 26. 21. 22.\n",
      " 22. 24. 24. 15. 26. 32. 25. 22. 22. 19. 19. 28. 32. 23. 20. 22. 15. 26.\n",
      " 23. 26. 23. 35. 26. 17. 30. 36. 20. 11. 15. 10. 13.  9.  5.  7. 15. 13.\n",
      " 13.  9.  8. 15. 11. 13. 13. 13. 12. 12. 13. 11. 10. 10.  8. 10. 10. 14.\n",
      " 11.  6. 11. 12. 14. 10. 15.  8.]\n"
     ]
    }
   ],
   "source": [
    "data = tf.concat([tfd.Poisson(rate=lambda_1).sample(sample_shape=tau),\n",
    "                 tfd.Poisson(rate=lambda_2).sample(sample_shape=(80 - tau))], axis=0).numpy()\n",
    "days_range = tf.range(80).numpy()\n",
    "print(\"Artificial day-by-day user SMS count created by sampling: \\n\", data)"
   ]
  },
  {
   "cell_type": "markdown",
   "id": "cdc74f3e",
   "metadata": {},
   "source": [
    "4. Plot the artifical dataset:"
   ]
  },
  {
   "cell_type": "code",
   "execution_count": 12,
   "id": "0d6f7f29",
   "metadata": {},
   "outputs": [
    {
     "data": {
      "image/png": "[encoded data removed]",
      "text/plain": [
       "<Figure size 864x432 with 1 Axes>"
      ]
     },
     "metadata": {},
     "output_type": "display_data"
    }
   ],
   "source": [
    "plt.subplots(figsize=(12, 6))\n",
    "plt.bar(days_range, data, color=TFColor[3])\n",
    "plt.bar(tau - 1, data[tau-1], color=\"r\", label=\"user behaviour changed\")\n",
    "plt.xlabel(\"Time (days)\")\n",
    "plt.ylabel(\"count of text-msgs received\")\n",
    "plt.title(\"Artificial dataset\")\n",
    "plt.xlim(0, 80)\n",
    "plt.legend();"
   ]
  },
  {
   "cell_type": "markdown",
   "id": "91784f37",
   "metadata": {},
   "source": [
    "It is okay that our fictional dataset does not look like our observed dataset: the probability is incredibly small it indeed would. TFP's engine is designed to find good parameters, $\\lambda_i, \\tau$, that maximize this probability.  \n",
    "\n",
    "\n",
    "The ability to generate an artificial dataset is an interesting side effect of our modeling, and we will see that this ability is a very important method of Bayesian inference. We produce a few more datasets below:"
   ]
  },
  {
   "cell_type": "code",
   "execution_count": 13,
   "id": "ef715df2",
   "metadata": {},
   "outputs": [
    {
     "data": {
      "image/png": "[encoded data removed]",
      "text/plain": [
       "<Figure size 900x576 with 4 Axes>"
      ]
     },
     "metadata": {},
     "output_type": "display_data"
    }
   ],
   "source": [
    "def plot_artificial_sms_dataset():\n",
    "    tau = tf.random.uniform(shape=[1], minval=0, maxval=80, dtype=tf.int32).numpy()\n",
    "    alpha = 1./8\n",
    "    lambda_1, lambda_2 = tfd.Gamma(concentration=1/alpha, rate=0.3).sample(sample_shape=[2]).numpy()\n",
    "    data = tf.concat([tfd.Poisson(rate=lambda_1).sample(sample_shape=tau),\n",
    "                      tfd.Poisson(rate=lambda_2).sample(sample_shape=(80-tau))], axis=0).numpy()\n",
    "    days_range = tf.range(80).numpy()\n",
    "    \n",
    "    plt.bar(days_range, data, color=TFColor[3])\n",
    "    plt.bar(tau - 1, data[tau-1], color='r', label='user behaviour changed')\n",
    "    plt.xlim(0, 80);\n",
    "    \n",
    "plt.figure(figsize=(12.5, 8))\n",
    "for i in range(4):\n",
    "    plt.subplot(4, 1, i+1)\n",
    "    plot_artificial_sms_dataset()"
   ]
  },
  {
   "cell_type": "markdown",
   "id": "f9229cf7",
   "metadata": {},
   "source": [
    "Later we will see how we use this to make predictions and test the appropriateness of our models.\n",
    "\n",
    "### Example: Bayesian A/B testing\n",
    "\n",
    "A/B testing is a statistical design pattern for determining the difference of effectiveness between two different treatments. For example, a pharmaceutical company is interested in the effectiveness of drug A vs drug B. The company will test drug A on some fraction of their trials, and drug B on the other fraction (this fraction is often 1/2, but we will relax this assumption). After performing enough trials, the in-house statisticians sift through the data to determine which drug yielded better results. \n",
    "\n",
    "Similarly, front-end web developers are interested in which design of their website yields more sales or some other metric of interest. They will route some fraction of visitors to site A, and the other fraction to site B, and record if the visit yielded a sale or not. The data is recorded (in real-time), and analyzed afterwards. \n",
    "\n",
    "Often, the post-experiment analysis is done using something called a hypothesis test like *difference of means test* or *difference of proportions test*. This involves often misunderstood quantities like a \"Z-score\" and even more confusing \"p-values\" (please don't ask). If you have taken a statistics course, you have probably been taught this technique (though not necessarily *learned* this technique). And if you were like me, you may have felt uncomfortable with their derivation -- good: the Bayesian approach to this problem is much more natural. "
   ]
  },
  {
   "cell_type": "markdown",
   "id": "d792f205",
   "metadata": {},
   "source": [
    "### A Simple Case\n",
    "\n",
    "As this is a hacker book, we'll continue with the web-dev example. For the moment, we will focus on the analysis of site A only. Assume that there is some true $0 \\lt p_A \\lt 1$ probability that users who, upon shown site A, eventually purchase from the site. This is the true effectiveness of site A. Currently, this quantity is unknown to us. \n",
    "\n",
    "Suppose site A was shown to $N$ people, and $n$ people purchased from the site. One might conclude hastily that $p_A = \\frac{n}{N}$. Unfortunately, the *observed frequency* $\\frac{n}{N}$ does not necessarily equal $p_A$ -- there is a difference between the *observed frequency* and the *true frequency* of an event. The true frequency can be interpreted as the probability of an event occurring. For example, the true frequency of rolling a 1 on a 6-sided die is $\\frac{1}{6}$. Knowing the true frequency of events like:\n",
    "\n",
    "- fraction of users who make purchases, \n",
    "- frequency of social attributes, \n",
    "- percent of internet users with cats etc. \n",
    "\n",
    "are common requests we ask of Nature. Unfortunately, often Nature hides the true frequency from us and we must *infer* it from observed data.\n",
    "\n",
    "The *observed frequency* is then the frequency we observe: say rolling the die 100 times you may observe 20 rolls of 1. The observed frequency, 0.2, differs from the true frequency, $\\frac{1}{6}$. We can use Bayesian statistics to infer probable values of the true frequency using an appropriate prior and observed data.\n",
    "\n",
    "\n",
    "With respect to our A/B example, we are interested in using what we know, $N$ (the total trials administered) and $n$ (the number of conversions), to estimate what $p_A$, the true frequency of buyers, might be. \n",
    "\n",
    "To setup a Bayesian model, we need to assign prior distributions to our unknown quantities. *A priori*, what do we think $p_A$ might be? For this example, we have no strong conviction about $p_A$, so for now, let's assume $p_A$ is uniform over $[0,1]$:"
   ]
  },
  {
   "cell_type": "code",
   "execution_count": 14,
   "id": "57067964",
   "metadata": {},
   "outputs": [],
   "source": [
    "# The parameters are the bounds of the Uniform\n",
    "rv_p = tfd.Uniform(low=0., high=1., name='p')"
   ]
  },
  {
   "cell_type": "markdown",
   "id": "09c45650",
   "metadata": {},
   "source": [
    "Had we had stronger beliefs, we could have expressed them in the prior above.\n",
    "\n",
    "For this example, consider $p_A = 0.05$, and $N = 1500$ users shown site A, and we will simulate whether the user made a purchase or not. To simulate this from $N$ trials, we will use a *Bernoulli* distribution: if  $X\\ \\sim \\text{Ber}(p)$, then $X$ is 1 with probability $p$ and 0 with probability $1 - p$. Of course, in practice we do not know $p_A$, but we will use it here to simulate the data. We can assume then that we can use the following generative model:\n",
    "\n",
    "$$\\begin{align*}\n",
    "p &\\sim \\text{Uniform}[\\text{low}=0,\\text{high}=1) \\\\\n",
    "X\\ &\\sim \\text{Bernoulli}(\\text{prob}=p) \\\\\n",
    "\\text{for }  i &= 1\\ldots N:\\text{# Users}  \\\\\n",
    " X_i\\ &\\sim \\text{Bernoulli}(p_i)\n",
    "\\end{align*}$$"
   ]
  },
  {
   "cell_type": "code",
   "execution_count": 15,
   "id": "a9fe5d67",
   "metadata": {},
   "outputs": [
    {
     "name": "stdout",
     "output_type": "stream",
     "text": [
      "Array of 15000 Occurences: [0 0 0 ... 0 0 1]\n",
      "(Remember: Python treats True == 1, and False == 0)\n",
      "Sum of (True == 1) Occurences: 751\n"
     ]
    }
   ],
   "source": [
    "# set constants\n",
    "prob_true = 0.05 # remember, this is unknown.\n",
    "N = 15000\n",
    "\n",
    "# sample N Bernoulli random variables from Ber(0.05)\n",
    "# each random variable has a 0.05 chance of being a 1.\n",
    "# this is the data-generation step\n",
    "\n",
    "occurrences = tfd.Bernoulli(probs=prob_true).sample(sample_shape=N, seed=10)\n",
    "occurrences_sum = tf.reduce_sum(occurrences).numpy()\n",
    "occurrences_mean = tf.reduce_mean(tf.cast(occurrences, tf.float32)).numpy()\n",
    "\n",
    "print(\"Array of {} Occurences:\".format(N), occurrences.numpy()) \n",
    "print(\"(Remember: Python treats True == 1, and False == 0)\")\n",
    "print(\"Sum of (True == 1) Occurences:\", occurrences_sum)"
   ]
  },
  {
   "cell_type": "markdown",
   "id": "0f4f83f8",
   "metadata": {},
   "source": [
    "The observed frequency is:"
   ]
  },
  {
   "cell_type": "code",
   "execution_count": 16,
   "id": "c3fa4e28",
   "metadata": {},
   "outputs": [
    {
     "name": "stdout",
     "output_type": "stream",
     "text": [
      "What is the observed frequency in Group A? 0.0501\n",
      "Does this equal the true frequency? False\n"
     ]
    }
   ],
   "source": [
    "# Occurrences.mean is equal to n/N.\n",
    "print(\"What is the observed frequency in Group A? %.4f\" % occurrences_mean)\n",
    "print(\"Does this equal the true frequency? %s\" % (occurrences_mean == prob_true))"
   ]
  },
  {
   "cell_type": "markdown",
   "id": "9280cba6",
   "metadata": {},
   "source": [
    "We can combine our Bernoulli distribution and our observed occurrences into a log probability function based on the two."
   ]
  },
  {
   "cell_type": "code",
   "execution_count": 17,
   "id": "4cda9bbe",
   "metadata": {},
   "outputs": [],
   "source": [
    "def joint_log_prob(occurrences, prob_A):\n",
    "    \"\"\"\n",
    "    Joint log probability optimization function.\n",
    "    \"\"\"\n",
    "    rv_prob_A = tfd.Uniform(low=0., high=1.)\n",
    "    rv_occurrences = tfd.Bernoulli(probs=prob_A)\n",
    "    return rv_prob_A.log_prob(prob_A) + tf.reduce_sum(rv_occurrences.log_prob(occurrences))"
   ]
  },
  {
   "cell_type": "markdown",
   "id": "d2925fba",
   "metadata": {},
   "source": [
    "The goal of probabilistic inference is to find model parameters that may explain\n",
    "data you have observed. TFP performs probabilistic inference by evaluating the\n",
    "model parameters using a `joint_log_prob` function.  The arguments to `joint_log_prob` are data and model parameters—for the model defined in the `joint_log_prob` function itself. The function returns the log of the joint probability that the model parameterized as such generated the observed data per the input arguments.\n",
    "\n",
    "All `joint_log_prob` functions have a common structure:\n",
    "\n",
    "1. The function takes a set of **inputs** to evaluate. Each input is either an\n",
    "observed value or a model parameter.\n",
    "\n",
    "1. The `joint_log_prob` function uses probability distributions to define a **model** for evaluating the inputs. These distributions measure the likelihood of the input values. (By convention, the distribution that measures the likelihood of the variable `foo` will be named `rv_foo` to note that it is a random variable.) We use two types of distributions in `joint_log_prob` functions:\n",
    "\n",
    "  a. **Prior distributions** measure the likelihood of input values.\n",
    "A prior distribution never depends on an input value. Each prior distribution measures the\n",
    "likelihood of a single input value. Each unknown variable—one that has not been\n",
    "observed directly—needs a corresponding prior. Beliefs about which values could\n",
    "be reasonable determine the prior distribution. Choosing a prior can be tricky,\n",
    "so we will cover it in depth in Chapter 6.\n",
    "\n",
    "  b. **Conditional distributions** measure the likelihood of an input value given\n",
    "other input values. Typically, the conditional\n",
    "distributions return the likelihood of observed data given the current guess of parameters in the model, p(observed_data | model_parameters).\n",
    "\n",
    "1. Finally, we calculate and return the **joint log probability** of the inputs.\n",
    "The joint log probability is the sum of the log probabilities from all of the\n",
    "prior and conditional distributions. (We take the sum of log probabilities\n",
    "instead of multiplying the probabilities directly for reasons of numerical\n",
    "stability: floating point numbers in computers cannot represent the very small\n",
    "values necessary to calculate the joint log probability unless they are in \n",
    "log space.) The sum of probabilities is actually an unnormalized density; although the total sum of probabilities  over all possible inputs might not sum to one, the sum of probabilities is proportional to the true probability density. This proportional distribution is sufficient to estimate the distribution of likely inputs.\n",
    "\n",
    "Let's map these terms onto the code above. In this example, the input values\n",
    "are the observed values in `occurrences` and the unknown value for `prob_A`. The `joint_log_prob` takes the current guess for `prob_A`\n",
    "and answers, how likely is the data if `prob_A` is the probability of\n",
    "`occurrences`. The answer depends on two distributions:\n",
    "1. The prior distribution, `rv_prob_A`, indicates how likely the current value of `prob_A` is by itself.\n",
    "2. The conditional distribution, `rv_occurrences`, indicates the likelihood of `occurrences` if `prob_A` were the  probability for the Bernoulli distribution.\n",
    "\n",
    "The sum of the log of these probabilities is the\n",
    "joint log probability. \n",
    "\n",
    "The `joint_log_prob` is particularly useful in conjunction with the [`tfp.mcmc`](https://www.tensorflow.org/probability/api_docs/python/tfp/mcmc)\n",
    "module. Markov chain Monte Carlo (MCMC) algorithms proceed by making educated guesses about the unknown\n",
    "input values and\n",
    "computing what the likelihood of this set of arguments is. (We’ll talk about how it makes those guesses in Chapter 3.) By repeating this process\n",
    "many times, MCMC builds a distribution of likely parameters. Constructing this\n",
    "distribution is the goal of probabilistic inference."
   ]
  },
  {
   "cell_type": "code",
   "execution_count": 18,
   "id": "91af0207",
   "metadata": {},
   "outputs": [],
   "source": [
    "number_of_steps = 48000\n",
    "burnin = 25000\n",
    "leapfrog_steps=2\n",
    "\n",
    "# Set the chain's start state.\n",
    "initial_chain_state =[\n",
    "    tf.reduce_mean(tf.cast(occurrences, tf.float32)) * tf.ones([], dtype=tf.float32, name='init_prob_A')\n",
    "]\n",
    "\n",
    "# Since HMC operates over unconstrained space, we need to transform the\n",
    "# samples so they live in real-space.\n",
    "unconstraining_bijectors = [tfp.bijectors.Identity()]\n",
    "\n",
    "# Define a closure over our joint_log_prob\n",
    "# The closure makes it so the HMC doesn't try to change the `occurrences` but\n",
    "# instead determines the distributions of other parameters that might generate\n",
    "# the `occurrences` we observed.\n",
    "unnormalized_posterior_log_prob = lambda *args: joint_log_prob(occurrences, *args)"
   ]
  },
  {
   "cell_type": "markdown",
   "id": "6078758d",
   "metadata": {},
   "source": [
    "### Specify the posterior sampler"
   ]
  },
  {
   "cell_type": "code",
   "execution_count": 19,
   "id": "73f424dc",
   "metadata": {},
   "outputs": [],
   "source": [
    "@tf.function(autograph=False)\n",
    "def graph_sample_chain(*args, **kwargs):\n",
    "    return tfp.mcmc.sample_chain(*args, **kwargs)\n",
    "\n",
    "step_size = 0.2\n",
    "\n",
    "hmc = tfp.mcmc.TransformedTransitionKernel(\n",
    "    inner_kernel=tfp.mcmc.HamiltonianMonteCarlo(\n",
    "        target_log_prob_fn=unnormalized_posterior_log_prob,\n",
    "        num_leapfrog_steps=leapfrog_steps,\n",
    "        step_size=step_size,\n",
    "        state_gradients_are_stopped=True),\n",
    "    bijector=unconstraining_bijectors)\n",
    "\n",
    "kernel = tfp.mcmc.SimpleStepSizeAdaptation(inner_kernel=hmc,\n",
    "                                          num_adaptation_steps=int(burnin * 0.8))\n",
    "\n",
    "[\n",
    "    posterior_prob_A\n",
    "], kernel_results = graph_sample_chain(\n",
    "    num_results=number_of_steps,\n",
    "    num_burnin_steps=burnin,\n",
    "    current_state=initial_chain_state,\n",
    "    kernel=kernel)"
   ]
  },
  {
   "cell_type": "code",
   "execution_count": 20,
   "id": "93575b4c",
   "metadata": {},
   "outputs": [
    {
     "name": "stdout",
     "output_type": "stream",
     "text": [
      "acceptance rate: 0.6110000014305115\n"
     ]
    }
   ],
   "source": [
    "print(\"acceptance rate: {}\".format(\n",
    "    tf.reduce_mean(tf.cast(kernel_results.inner_results.inner_results.is_accepted, dtype=tf.float32))))\n",
    "\n",
    "burned_prob_A_trace_ = posterior_prob_A[burnin:].numpy()"
   ]
  },
  {
   "cell_type": "code",
   "execution_count": 21,
   "id": "d5c78fe6",
   "metadata": {},
   "outputs": [
    {
     "data": {
      "image/png": "[encoded data removed]",
      "text/plain": [
       "<Figure size 900x288 with 1 Axes>"
      ]
     },
     "metadata": {},
     "output_type": "display_data"
    }
   ],
   "source": [
    "plt.figure(figsize(12.5, 4))\n",
    "plt.title(\"Posterior distribution of $p_A$, the true effectiveness of site A\")\n",
    "plt.vlines(prob_true, 0, 90, linestyle=\"--\", label=\"true $p_A$ (unknown)\")\n",
    "plt.hist(burned_prob_A_trace_, bins=25, histtype=\"stepfilled\", density=True)\n",
    "plt.legend();"
   ]
  },
  {
   "cell_type": "markdown",
   "id": "208e4e56",
   "metadata": {},
   "source": [
    "Our posterior distribution puts most weight near the true value of $p_A$, but also some weights in the tails. This is a measure of how uncertain we should be, given our observations. Try changing the number of observations, `N`, and observe how the posterior distribution changes.\n",
    "\n",
    "### *A* and *B* Together\n",
    "\n",
    "A similar analysis can be done for site B's response data to determine the analogous $p_B$. But what we are really interested in is the *difference* between $p_A$ and $p_B$. Let's infer $p_A$, $p_B$, *and* $\\text{delta} = p_A - p_B$, all at once. We can do this using TFP's deterministic variables. (We'll assume for this exercise that $p_B = 0.04$, so $\\text{delta} = 0.01$, $N_B = 750$ (significantly less than $N_A$) and we will simulate site B's data like we did for site A's data ). Our model now looks like the following:\n",
    "\n",
    "$$\\begin{align*}\n",
    "p_A &\\sim \\text{Uniform}[\\text{low}=0,\\text{high}=1) \\\\\n",
    "p_B &\\sim \\text{Uniform}[\\text{low}=0,\\text{high}=1) \\\\\n",
    "X\\ &\\sim \\text{Bernoulli}(\\text{prob}=p) \\\\\n",
    "\\text{for }  i &= 1\\ldots N: \\\\\n",
    " X_i\\ &\\sim \\text{Bernoulli}(p_i)\n",
    "\\end{align*}$$"
   ]
  },
  {
   "cell_type": "code",
   "execution_count": 22,
   "id": "ed1ee24e",
   "metadata": {},
   "outputs": [
    {
     "name": "stdout",
     "output_type": "stream",
     "text": [
      "Obs from Site A:  [0 0 0 0 0 0 0 0 0 0 0 0 1 0 0 0 0 0 0 0 0 0 0 0 0 0 0 0 0 0] ...\n",
      "Observed Prob_A:  0.05733333333333333 ...\n",
      "Obs from Site B:  [0 0 0 0 0 0 0 0 0 0 0 0 0 0 0 0 0 0 0 0 0 0 0 0 0 0 0 0 0 0] ...\n",
      "Observed Prob_B:  0.036\n"
     ]
    }
   ],
   "source": [
    "# These two quantities are unknown to us.\n",
    "true_prob_A_ = 0.05\n",
    "true_prob_B_ = 0.04\n",
    "\n",
    "# Notice the unequal sample sizes -- no problem in Bayesian analysis.\n",
    "N_A_ = 1500\n",
    "N_B_ = 750\n",
    "\n",
    "# Generate some observations\n",
    "observations_A = tfd.Bernoulli(name='obs_A', probs=true_prob_A_).sample(sample_shape=N_A_, seed=42)\n",
    "observations_B = tfd.Bernoulli(name='obs_B', probs=true_prob_B_).sample(sample_shape=N_B_, seed=42)\n",
    "\n",
    "observations_A_ = observations_A.numpy()\n",
    "observations_B_ = observations_B.numpy()\n",
    "\n",
    "print(\"Obs from Site A: \", observations_A_[:30], \"...\")\n",
    "print(\"Observed Prob_A: \", np.mean(observations_A_), \"...\")\n",
    "print(\"Obs from Site B: \", observations_B_[:30], \"...\")\n",
    "print(\"Observed Prob_B: \", np.mean(observations_B_))"
   ]
  },
  {
   "cell_type": "markdown",
   "id": "f11d206e",
   "metadata": {},
   "source": [
    "Below we run inference over the new model:"
   ]
  },
  {
   "cell_type": "code",
   "execution_count": 23,
   "id": "3a31ae23",
   "metadata": {},
   "outputs": [],
   "source": [
    "def delta(prob_A, prob_B):\n",
    "    \"\"\"\n",
    "    Defining the deterministic delta function. This is our unknown of interest.\n",
    "    \n",
    "    Parameters\n",
    "    ----------\n",
    "    prob_A: float\n",
    "        Scalar estimate of the probability of a 1 appearing in observation set A\n",
    "    prob_B: float\n",
    "        Scalar estimate of the probability of a 1 appearing in observation set B\n",
    "        \n",
    "    Returns\n",
    "    -------\n",
    "        Difference between prob_A and prob_B\n",
    "    \"\"\"\n",
    "    return prob_A - prob_B\n",
    "\n",
    "\n",
    "def double_joint_log_prob(observations_A, observations_B, prob_A, prob_B):\n",
    "    \"\"\"\n",
    "    Joing log probability optimisation function.\n",
    "    \n",
    "    Parameters\n",
    "    ----------\n",
    "    observations_A: np.array\n",
    "        An array of binary values representing the set of observations for site A\n",
    "    observations_B: np.array\n",
    "        An array of binary values representing the set of observations for site B \n",
    "      prob_A: float\n",
    "          scalar estimate of the probability of a 1 appearing in observation set A\n",
    "      prob_B: float\n",
    "          scalar estimate of the probability of a 1 appearing in observation set B\n",
    "          \n",
    "    Returns\n",
    "    -------\n",
    "        Joint log probability optimization function.\n",
    "    \"\"\"\n",
    "    rv_prob_A = tfd.Uniform(low=0., high=1.)\n",
    "    rv_prob_B = tfd.Uniform(low=0., high=1.)\n",
    "    \n",
    "    rv_obs_A = tfd.Bernoulli(probs=prob_A)\n",
    "    rv_obs_B = tfd.Bernoulli(probs=prob_B)\n",
    "    \n",
    "    return (rv_prob_A.log_prob(prob_A) + rv_prob_B.log_prob(prob_B)\n",
    "           + tf.reduce_sum(rv_obs_A.log_prob(observations_A))\n",
    "           + tf.reduce_sum(rv_obs_B.log_prob(observations_B)))"
   ]
  },
  {
   "cell_type": "code",
   "execution_count": 24,
   "id": "0c5041eb",
   "metadata": {},
   "outputs": [],
   "source": [
    "number_of_steps = 37200 #@param {type:\"slider\", min:2000, max:50000, step:100}\n",
    "#@markdown (Default is 18000).\n",
    "burnin = 1000 #@param {type:\"slider\", min:0, max:30000, step:100}\n",
    "#@markdown (Default is 1000).\n",
    "leapfrog_steps=3 #@param {type:\"slider\", min:1, max:9, step:1}\n",
    "#@markdown (Default is 6).\n",
    "\n",
    "\n",
    "# Set the chain's start state.\n",
    "initial_chain_state = [    \n",
    "    tf.reduce_mean(tf.cast(observations_A, tf.float32)) * tf.ones([], dtype=tf.float32, name=\"init_prob_A\"),\n",
    "    tf.reduce_mean(tf.cast(observations_B, tf.float32)) * tf.ones([], dtype=tf.float32, name=\"init_prob_B\")\n",
    "]\n",
    "\n",
    "# Since HMC operates over unconstrained space, we need to transform the\n",
    "# samples so they live in real-space.\n",
    "unconstraining_bijectors = [\n",
    "    tfp.bijectors.Identity(),   # Maps R to R.\n",
    "    tfp.bijectors.Identity()    # Maps R to R.\n",
    "]\n",
    "\n",
    "# Define a closure over our joint_log_prob.\n",
    "unnormalized_posterior_log_prob = lambda *args: double_joint_log_prob(observations_A, observations_B, *args)"
   ]
  },
  {
   "cell_type": "code",
   "execution_count": 25,
   "id": "132c5784",
   "metadata": {},
   "outputs": [],
   "source": [
    "@tf.function(autograph=False)\n",
    "def graph_sample_chain(*args, **kwargs):\n",
    "    return tfp.mcmc.sample_chain(*args, **kwargs)\n",
    "\n",
    "step_size = tf.Variable(0.5, dtype=tf.float32, trainable=False)\n",
    "\n",
    "hmc = tfp.mcmc.TransformedTransitionKernel(\n",
    "    inner_kernel= tfp.mcmc.SimpleStepSizeAdaptation(\n",
    "        inner_kernel=tfp.mcmc.HamiltonianMonteCarlo(\n",
    "            target_log_prob_fn=unnormalized_posterior_log_prob,\n",
    "            num_leapfrog_steps=leapfrog_steps,\n",
    "            step_size=step_size,\n",
    "            state_gradients_are_stopped=True),\n",
    "        num_adaptation_steps=int(burnin * 0.8)),\n",
    "    bijector=unconstraining_bijectors)\n",
    "\n",
    "\n",
    "\n",
    "[\n",
    "    posterior_prob_A,\n",
    "    posterior_prob_B\n",
    "], kernel_results = graph_sample_chain(\n",
    "    num_results=number_of_steps,\n",
    "    num_burnin_steps=burnin,\n",
    "    current_state=initial_chain_state,\n",
    "    kernel=hmc)"
   ]
  },
  {
   "cell_type": "code",
   "execution_count": 26,
   "id": "a84293d1",
   "metadata": {},
   "outputs": [
    {
     "data": {
      "text/html": [
       "<script>initialize();</script>Click <a href=\"javascript:code_toggle()\">here</a> to show/hide codes in this notebook."
      ],
      "text/plain": [
       "<IPython.core.display.HTML object>"
      ]
     },
     "execution_count": 26,
     "metadata": {},
     "output_type": "execute_result"
    }
   ],
   "source": [
    "HTML('''<script>initialize();</script>Click <a href=\"javascript:code_toggle()\">here</a> to show/hide codes in this notebook.''')"
   ]
  }
 ],
 "metadata": {
  "kernelspec": {
   "display_name": "Python 3 (ipykernel)",
   "language": "python",
   "name": "python3"
  },
  "language_info": {
   "codemirror_mode": {
    "name": "ipython",
    "version": 3
   },
   "file_extension": ".py",
   "mimetype": "text/x-python",
   "name": "python",
   "nbconvert_exporter": "python",
   "pygments_lexer": "ipython3",
   "version": "3.8.5"
  }
 },
 "nbformat": 4,
 "nbformat_minor": 5
}
